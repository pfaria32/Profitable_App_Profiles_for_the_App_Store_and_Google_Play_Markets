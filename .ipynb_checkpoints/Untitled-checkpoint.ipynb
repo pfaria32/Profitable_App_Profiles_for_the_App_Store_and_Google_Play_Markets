{
 "cells": [
  {
   "cell_type": "markdown",
   "metadata": {},
   "source": [
    "# Opening and Exploring the data"
   ]
  },
  {
   "cell_type": "markdown",
   "metadata": {},
   "source": [
    "The aim of this project is to help our developers understand what type of apps are likely to attract more users on Google Play and the App Store. To do this, we'll need to collect and analyze data about mobile apps available on Google Play and the App Store."
   ]
  },
  {
   "cell_type": "markdown",
   "metadata": {},
   "source": [
    "As of September 2018, there were approximately 2 million iOS apps available on the App Store, and 2.1 million Android apps on Google Play. Collecting data for over 4 million apps requires a significant amount of time and money, so we'll try to analyze a sample of the data instead. To avoid spending resources on collecting new data ourselves, we should first try to see if we can find any relevant existing data at no cost. Luckily, these are two data sets that seem suitable for our goals:\n",
    "A data set containing data about approximately 10,000 Android apps from Google Play; the data was collected in August 2018. You can download the data set directly from https://dq-content.s3.amazonaws.com/350/googleplaystore.csv.\n",
    "A data set containing data about approximately 7,000 iOS apps from the App Store; the data was collected in July 2017. You can download the data set directly from https://dq-content.s3.amazonaws.com/350/AppleStore.csv."
   ]
  },
  {
   "cell_type": "code",
   "execution_count": 1,
   "metadata": {},
   "outputs": [],
   "source": [
    "from csv import reader\n",
    "# Google Play data set #\n",
    "opened_file = open('googleplaystore.csv')\n",
    "read_file = reader(opened_file)\n",
    "android = list(read_file)\n",
    "android_header = android[0]\n",
    "android = android[1:]\n",
    "\n",
    "# The App Store data set #\n",
    "opened_file = open('AppleStore.csv')\n",
    "read_file = reader(opened_file)\n",
    "ios = list(read_file)\n",
    "ios_header = ios[0]\n",
    "ios = ios[1:]"
   ]
  },
  {
   "cell_type": "markdown",
   "metadata": {},
   "source": [
    "dd``\u001b"
   ]
  },
  {
   "cell_type": "markdown",
   "metadata": {},
   "source": [
    "We will open and explore data with the following explore_data() function:"
   ]
  },
  {
   "cell_type": "code",
   "execution_count": 2,
   "metadata": {},
   "outputs": [],
   "source": [
    "def explore_data(dataset, start, end, rows_and_columns=False):\n",
    "    dataset_slice = dataset[start:end]    \n",
    "    for row in dataset_slice:\n",
    "        print(row)\n",
    "        print('\\n') # adds a new (empty) line after each row\n",
    "\n",
    "    if rows_and_columns:\n",
    "        print('Number of rows:', len(dataset))\n",
    "        print('Number of columns:', len(dataset[0]))"
   ]
  },
  {
   "cell_type": "markdown",
   "metadata": {},
   "source": [
    "To extract android rows and columns:"
   ]
  },
  {
   "cell_type": "code",
   "execution_count": 3,
   "metadata": {},
   "outputs": [
    {
     "name": "stdout",
     "output_type": "stream",
     "text": [
      "['App', 'Category', 'Rating', 'Reviews', 'Size', 'Installs', 'Type', 'Price', 'Content Rating', 'Genres', 'Last Updated', 'Current Ver', 'Android Ver']\n",
      "\n",
      "\n",
      "['Photo Editor & Candy Camera & Grid & ScrapBook', 'ART_AND_DESIGN', '4.1', '159', '19M', '10,000+', 'Free', '0', 'Everyone', 'Art & Design', 'January 7, 2018', '1.0.0', '4.0.3 and up']\n",
      "\n",
      "\n",
      "['Coloring book moana', 'ART_AND_DESIGN', '3.9', '967', '14M', '500,000+', 'Free', '0', 'Everyone', 'Art & Design;Pretend Play', 'January 15, 2018', '2.0.0', '4.0.3 and up']\n",
      "\n",
      "\n",
      "['U Launcher Lite – FREE Live Cool Themes, Hide Apps', 'ART_AND_DESIGN', '4.7', '87510', '8.7M', '5,000,000+', 'Free', '0', 'Everyone', 'Art & Design', 'August 1, 2018', '1.2.4', '4.0.3 and up']\n",
      "\n",
      "\n",
      "Number of rows: 10841\n",
      "Number of columns: 13\n"
     ]
    }
   ],
   "source": [
    "print(android_header)\n",
    "print('\\n')\n",
    "explore_data(android, 0, 3, True)"
   ]
  },
  {
   "cell_type": "markdown",
   "metadata": {},
   "source": [
    "To extract ios rows and columns:"
   ]
  },
  {
   "cell_type": "code",
   "execution_count": 4,
   "metadata": {},
   "outputs": [
    {
     "name": "stdout",
     "output_type": "stream",
     "text": [
      "['id', 'track_name', 'size_bytes', 'currency', 'price', 'rating_count_tot', 'rating_count_ver', 'user_rating', 'user_rating_ver', 'ver', 'cont_rating', 'prime_genre', 'sup_devices.num', 'ipadSc_urls.num', 'lang.num', 'vpp_lic']\n",
      "/n\n",
      "['284882215', 'Facebook', '389879808', 'USD', '0.0', '2974676', '212', '3.5', '3.5', '95.0', '4+', 'Social Networking', '37', '1', '29', '1']\n",
      "\n",
      "\n",
      "['389801252', 'Instagram', '113954816', 'USD', '0.0', '2161558', '1289', '4.5', '4.0', '10.23', '12+', 'Photo & Video', '37', '0', '29', '1']\n",
      "\n",
      "\n",
      "['529479190', 'Clash of Clans', '116476928', 'USD', '0.0', '2130805', '579', '4.5', '4.5', '9.24.12', '9+', 'Games', '38', '5', '18', '1']\n",
      "\n",
      "\n",
      "Number of rows: 7197\n",
      "Number of columns: 16\n"
     ]
    }
   ],
   "source": [
    "print(ios_header)\n",
    "print('/n')\n",
    "explore_data(ios, 0, 3, True)"
   ]
  },
  {
   "cell_type": "markdown",
   "metadata": {},
   "source": [
    "# Deleting Wrong Data"
   ]
  },
  {
   "cell_type": "markdown",
   "metadata": {},
   "source": [
    "In the previous step, we opened the two data sets and performed a brief exploration of the data. Before beginning our analysis, we need to make sure the data we analyze is accurate, otherwise the results of our analysis will be wrong. This means that we need to:\n",
    "\n",
    "Detect inaccurate data, and correct or remove it.\n",
    "Detect duplicate data, and remove the duplicates.\n",
    "Recall that at our company, we only build apps that are free to download and install, and that are directed toward an English-speaking audience. This means that we'll need to:\n",
    "\n",
    "Remove non-English apps like 爱奇艺PPS -《欢乐颂2》电视剧热播.\n",
    "Remove apps that aren't free."
   ]
  },
  {
   "cell_type": "markdown",
   "metadata": {},
   "source": [
    "Row 10472 of the Android data set was reported broken (https://www.kaggle.com/lava18/google-play-store-apps/discussion/66015): "
   ]
  },
  {
   "cell_type": "code",
   "execution_count": 5,
   "metadata": {},
   "outputs": [
    {
     "name": "stdout",
     "output_type": "stream",
     "text": [
      "['Life Made WI-Fi Touchscreen Photo Frame', '1.9', '19', '3.0M', '1,000+', 'Free', '0', 'Everyone', '', 'February 11, 2018', '1.0.19', '4.0 and up']\n"
     ]
    }
   ],
   "source": [
    "print(android[10472])"
   ]
  },
  {
   "cell_type": "markdown",
   "metadata": {},
   "source": [
    "Therefore, this datapoint will be deleted from the dataset:"
   ]
  },
  {
   "cell_type": "code",
   "execution_count": 6,
   "metadata": {},
   "outputs": [
    {
     "name": "stdout",
     "output_type": "stream",
     "text": [
      "10841\n",
      "10840\n"
     ]
    }
   ],
   "source": [
    "print(len(android))\n",
    "del android[10472]\n",
    "print(len(android))"
   ]
  },
  {
   "cell_type": "markdown",
   "metadata": {},
   "source": [
    "# Removing  Duplicate Entries"
   ]
  },
  {
   "cell_type": "markdown",
   "metadata": {},
   "source": [
    "There are some reports of duplicate data points in the dataset (https://www.kaggle.com/lava18/google-play-store-apps/discussion). The following function shows that there are 1181 cases of an app with the same name that occurs more than once in the android dataset:"
   ]
  },
  {
   "cell_type": "code",
   "execution_count": 7,
   "metadata": {},
   "outputs": [
    {
     "name": "stdout",
     "output_type": "stream",
     "text": [
      "Number of duplicate apps: 1181\n",
      "\n",
      "\n",
      "Examples of duplicate apps: ['Quick PDF Scanner + OCR FREE', 'Box', 'Google My Business', 'ZOOM Cloud Meetings', 'join.me - Simple Meetings', 'Box', 'Zenefits', 'Google Ads', 'Google My Business', 'Slack', 'FreshBooks Classic', 'Insightly CRM', 'QuickBooks Accounting: Invoicing & Expenses', 'HipChat - Chat Built for Teams', 'Xero Accounting Software']\n"
     ]
    }
   ],
   "source": [
    "duplicate_apps = []\n",
    "unique_apps = []\n",
    "for app in android:\n",
    "    name = app[0]\n",
    "    if name in unique_apps:\n",
    "        duplicate_apps.append(name)\n",
    "    else:\n",
    "        unique_apps.append(name)\n",
    "        \n",
    "print('Number of duplicate apps:', len(duplicate_apps))\n",
    "print('\\n')\n",
    "print('Examples of duplicate apps:', duplicate_apps[:15])"
   ]
  },
  {
   "cell_type": "markdown",
   "metadata": {},
   "source": [
    "The following is a full account of all duplicate entries in the dataset. The verified_apps dictionary provides the number of times each duplicate app was duplicated"
   ]
  },
  {
   "cell_type": "code",
   "execution_count": 8,
   "metadata": {},
   "outputs": [
    {
     "name": "stdout",
     "output_type": "stream",
     "text": [
      "{'Quick PDF Scanner + OCR FREE': 3, 'Box': 3, 'Google My Business': 3, 'ZOOM Cloud Meetings': 1, 'join.me - Simple Meetings': 3, 'Zenefits': 1, 'Google Ads': 3, 'Slack': 3, 'FreshBooks Classic': 1, 'Insightly CRM': 1, 'QuickBooks Accounting: Invoicing & Expenses': 3, 'HipChat - Chat Built for Teams': 1, 'Xero Accounting Software': 1, 'MailChimp - Email, Marketing Automation': 1, 'Crew - Free Messaging and Scheduling': 1, 'Asana: organize team projects': 1, 'Google Analytics': 1, 'AdWords Express': 1, 'Accounting App - Zoho Books': 1, 'Invoice & Time Tracking - Zoho': 1, 'Invoice 2go — Professional Invoices and Estimates': 1, 'SignEasy | Sign and Fill PDF and other Documents': 1, 'Genius Scan - PDF Scanner': 1, 'Tiny Scanner - PDF Scanner App': 1, 'Fast Scanner : Free PDF Scan': 1, 'Mobile Doc Scanner (MDScan) Lite': 1, 'TurboScan: scan documents and receipts in PDF': 1, 'Tiny Scanner Pro: PDF Doc Scan': 1, 'Docs To Go™ Free Office Suite': 1, 'OfficeSuite : Free Office + PDF Editor': 1, 'WhatsApp Messenger': 3, 'Messenger – Text and Video Chat for Free': 3, 'imo free video calls and chat': 5, 'Viber Messenger': 7, 'Hangouts': 5, 'WeChat': 5, 'Telegram': 3, 'Who': 1, 'Google Voice': 3, 'Android Messages': 1, 'Firefox Focus: The privacy browser': 3, 'Google Allo': 3, 'Google Chrome: Fast & Secure': 3, 'Firefox Browser fast & private': 3, 'Puffin Web Browser': 3, 'Opera Browser: Fast and Secure': 3, 'Opera Mini - fast web browser': 3, 'UC Browser Mini -Tiny Fast Private & Secure': 3, 'UC Browser - Fast Download Private & Secure': 3, 'Calls & Text by Mo+': 1, 'Call Blocker': 1, 'Gmail': 3, 'Yahoo Mail – Stay Organized': 3, 'free video calls and chat': 3, 'Skype - free IM & video calls': 3, 'Glide - Video Chat Messenger': 1, 'Talkray - Free Calls & Texts': 1, 'LINE: Free Calls & Messages': 3, 'KakaoTalk: Free Calls & Text': 3, 'OkCupid Dating': 3, 'CMB Free Dating App': 1, 'Hily: Dating, Chat, Match, Meet & Hook up': 3, 'Hinge: Dating & Relationships': 1, 'BBW Dating & Plus Size Chat': 3, 'Casual Dating & Adult Singles - Joyride': 1, 'EliteSingles – Dating for Single Professionals': 1, 'Clover Dating App': 1, 'Moco - Chat, Meet People': 3, 'Hot or Not - Find someone right now': 3, 'Just She - Top Lesbian Dating': 3, 'Once - Quality Matches Every day': 1, 'Sudy – Meet Elite & Rich Single': 1, 'muzmatch: Muslim & Arab Singles, Marriage & Dating': 3, 'Chispa, the Dating App for Latino, Latina Singles': 1, 'Blendr - Chat, Flirt & Meet': 1, 'Find Real Love — YouLove Premium Dating': 1, 'Cougar Dating Life : Date Older Women Sugar Mummy': 1, 'stranger chat - anonymous chat': 1, 'Millionaire Match: Rich Singles Dating App': 1, 'Dating for 50 plus Mature Singles – FINALLY': 1, 'Moco+ - Chat, Meet People': 1, 'Chat Rooms, Avatars, Date - Galaxy': 1, 'FastMeet: Chat, Dating, Love': 1, 'Christian Dating For Free App': 1, 'Meet24 - Love, Chat, Singles': 1, 'Black White Interracial Dating - Interracial Match': 1, 'Gay Sugar Daddy Dating & Hookup – Sudy Gay': 1, 'Adult Dirty Emojis': 3, 'Hide App, Private Dating, Safe Chat - PrivacyHider': 1, 'Meet4U - Chat, Love, Singles!': 1, '95Live -SG#1 Live Streaming App': 1, 'O-Star': 3, 'Random Video Chat': 1, 'Black People Meet Singles Date': 1, 'Howlr': 1, 'Free Dating & Flirt Chat - Choice of Love': 1, 'Cardi B Live Stream Video Chat - Prank': 1, 'Chat Kids - Chat Room For Kids': 1, 'Transenger – Ts Dating and Chat for Free': 1, 'BBW Dating & Curvy Singles Chat- LargeFriends': 1, 'MouseMingle': 1, 'FlirtChat - ♥Free Dating/Flirting App♥': 1, 'Live Talk - Free Text and Video Chat': 1, 'Free Cam Girls - Live Webcam': 1, 'Random Video Chat App With Strangers': 1, 'Live Girls Talk - Free Video Chat': 1, 'Girls Live Chat - Free Text & Video Chat': 1, 'Free Dating App - Meet Local Singles - Flirt Chat': 1, 'iPair-Meet, Chat, Dating': 1, 'Free Dating Hook Up Messenger': 1, 'Free Dating App - YoCutie - Flirt, Chat & Meet': 1, 'Khan Academy': 3, 'TED': 5, 'Lumosity: #1 Brain Games & Cognitive Training App': 1, 'Udemy - Online Courses': 3, 'Duolingo: Learn Languages Free': 11, 'Quizlet: Learn Languages & Vocab with Flashcards': 5, 'Coursera: Online courses': 1, 'Udacity - Lifelong Learning': 1, 'edX - Online Courses by Harvard, MIT & more': 1, 'Lynda - Online Training Videos': 1, 'Learn languages, grammar & vocabulary with Memrise': 5, 'Brilliant': 1, 'Babbel – Learn Languages': 5, 'Rosetta Stone: Learn to Speak & Read New Languages': 5, 'Learn English with Wlingua': 1, 'Google Classroom': 3, 'Learn 50 languages': 1, 'Mango Languages: Lovable Language Courses': 1, 'busuu: Learn Languages - Spanish, English & More': 5, 'My Class Schedule: Timetable': 1, 'Socratic - Math Answers & Homework Help': 1, 'ClassDojo': 3, 'HelloTalk — Chat, Speak & Learn Foreign Languages': 1, 'Movies by Flixster, with Rotten Tomatoes': 3, 'IMDb Movies & TV': 3, 'Netflix': 7, 'Tubi TV - Free Movies & TV': 3, 'Crunchyroll - Everything Anime': 3, 'STARZ': 3, 'Crackle - Free TV & Movies': 3, 'CBS - Full Episodes & Live TV': 1, 'Nick': 9, 'Hulu: Stream TV, Movies & more': 5, 'FOX NOW - On Demand & Live TV': 3, 'The CW': 5, 'HISTORY: Watch TV Show Full Episodes & Specials': 3, 'HBO NOW: Stream TV & Movies': 5, 'A&E - Watch Full Episodes of TV Shows': 5, 'VH1': 3, 'Lifetime - Watch Full Episodes & Original Movies': 3, 'BET NOW - Watch Shows': 3, 'Food Network': 3, 'Viki: Asian TV Dramas & Movies': 3, 'Univision NOW - Live TV and On Demand': 1, 'SHOWTIME': 1, 'MTV': 1, 'Comedy Central': 1, 'FOX': 1, 'Telemundo Now': 1, 'Fandango Movies - Times + Tickets': 1, 'Google Pay': 5, 'Wells Fargo Daily Change': 1, 'Credit Karma': 3, 'Robinhood - Investing, No Fees': 1, 'Digit Save Money Automatically': 1, 'Acorns - Invest Spare Change': 1, 'Money Lover: Expense Tracker, Budget Planner': 1, 'Mint: Budget, Bills, Finance': 3, 'Simple - Better Banking': 1, 'PayPal': 1, 'Wells Fargo Mobile': 1, 'Capital One® Mobile': 1, 'Grubhub: Food Delivery': 1, 'Postmates Food Delivery: Order Eats & Alcohol': 1, \"Domino's Pizza USA\": 1, 'Chick-fil-A': 3, 'Zomato - Restaurant Finder and Food Delivery App': 1, 'Run with Map My Run': 3, 'Weight Loss Running by Verv': 3, 'Nike+ Run Club': 5, 'Runtastic Running App & Mile Tracker': 3, '8fit Workouts & Meal Planner': 1, 'Daily Yoga - Yoga Fitness Plans': 3, 'Pocket Yoga': 1, 'Calorie Counter - MyFitnessPal': 7, 'Seven - 7 Minute Workout Training Challenge': 1, 'Weight Watchers Mobile': 3, 'Walk with Map My Walk': 1, 'Workout Trainer: fitness coach': 1, 'Nike Training Club - Workouts & Fitness Plans': 3, 'Fitbit Coach': 1, 'Endomondo - Running & Walking': 1, 'Runkeeper - GPS Track Run Walk': 1, 'Lose It! - Calorie Counter': 3, 'Calorie Counter - MyNetDiary': 1, '10 Best Foods for You': 1, 'MyPlate Calorie Tracker': 1, 'Weight Loss Tracker - RecStyle': 1, 'Calorie Counter by FatSecret': 1, 'Calorie Counter - Macros': 1, 'My Diet Diary Calorie Counter': 1, 'Lark - 24/7 Health Coach': 1, 'Calorie Counter & Diet Tracker': 1, 'MealLogger-Photo Food Journal': 1, 'Health and Nutrition Guide': 1, 'Food Calorie Calculator': 1, 'Relax Meditation: Sleep with Sleep Sounds': 1, 'Meditation Music - Relax, Yoga': 1, '21-Day Meditation Experience': 1, 'Fabulous: Motivate Me! Meditate, Relax, Sleep': 1, 'Calm - Meditate, Sleep, Relax': 1, 'Relax Melodies: Sleep Sounds': 1, 'Simple Habit Meditation': 1, 'Headspace: Meditation & Mindfulness': 1, 'Houzz Interior Design Ideas': 5, 'Mortgage by Zillow: Calculator & Rates': 1, 'Redfin Real Estate': 1, 'Apartment List: Housing, Apt, and Property Rentals': 1, 'Realtor.com Real Estate: Homes for Sale and Rent': 1, 'Trulia Real Estate & Rentals': 1, 'Zillow: Find Houses for Sale & Apartments for Rent': 1, 'Apartments & Rentals - Zillow': 1, 'Trulia Rent Apartments & Homes': 1, 'Apartments.com Rental Search': 1, 'Vaniday - Beauty Booking App': 1, 'StyleSeat': 1, 'JOANN - Crafts & Coupons': 1, 'Fashion in Vogue': 3, 'Wheretoget: Shop in style': 1, 'My Dressing - Fashion closet': 1, 'Chictopia': 1, 'Scarf Fashion Designer': 1, 'Zara': 1, 'Subway Surfers': 9, 'ROBLOX': 15, 'Pou': 5, '8 Ball Pool': 11, 'Clash of Clans': 5, 'Candy Crush Saga': 11, 'Plants vs. Zombies FREE': 7, 'My Talking Angela': 5, 'Bubble Shooter': 9, 'Word Search': 5, 'Candy Crush Soda Saga': 3, 'Fishdom': 3, 'Block Puzzle': 5, 'Clash Royale': 5, 'Sniper 3D Gun Shooter: Free Shooting Games - FPS': 9, 'Granny': 7, 'Galaxy Attack: Alien Shooter': 3, 'Angry Birds Rio': 5, 'Zombie Catchers': 9, 'Zombie Hunter King': 5, 'Temple Run 2': 9, 'Zombie Tsunami': 7, 'Farm Heroes Saga': 7, 'Super Jim Jump - pixel 3d': 3, 'slither.io': 9, 'Angry Birds Classic': 7, 'Flow Free': 7, 'Helix Jump': 9, 'Toon Blast': 3, 'Kick the Buddy': 5, 'Magic Tiles 3': 5, 'Bowmasters': 9, 'Wordscapes': 5, 'Block Craft 3D: Building Simulator Games For Free': 3, 'PUBG MOBILE': 5, 'DRAGON BALL LEGENDS': 5, 'Harry Potter: Hogwarts Mystery': 1, 'MARVEL Strike Force': 3, 'Merge Dragons!': 1, 'Honkai Impact 3rd': 1, 'Toy Blast': 1, 'Homescapes': 1, 'Cooking Fever': 1, 'Gardenscapes': 1, 'Score! Hero': 3, 'Dream League Soccer 2018': 3, 'Fruits Bomb': 1, 'Talking Tom Gold Run': 5, 'My Talking Tom': 3, 'Hill Climb Racing': 5, 'Pixel Art: Color by Number Game': 3, 'Rider': 1, 'Garena Free Fire': 5, 'Miraculous Ladybug & Cat Noir - The Official Game': 3, 'Solitaire': 3, 'Traffic Racer': 1, 'Earn to Die 2': 1, 'Bubble Shooter 2': 1, 'Candy Crush Jelly Saga': 1, 'Cut the Rope FULL FREE': 3, 'Jewels Star: OZ adventure': 1, 'Hungry Shark Evolution': 3, 'Best Fiends - Free Puzzle Game': 1, 'Hill Climb Racing 2': 1, 'Swamp Attack': 1, 'Block Puzzle Classic Legend !': 1, 'DEAD TARGET: FPS Zombie Apocalypse Survival Games': 1, 'YouTube Kids': 5, 'Candy Bomb': 1, 'Princess Coloring Book': 1, 'Hello Kitty Nail Salon': 1, 'Dog Run - Pet Dog Simulator': 3, 'Coloring book moana': 1, 'Barbie™ Fashion Closet': 1, 'Minion Rush: Despicable Me Official Game': 5, 'No.Draw - Colors by Number 2018': 1, 'Super ABC! Learning games for kids! Preschool apps': 1, 'PJ Masks: Moonlight Heroes': 3, 'Hot Wheels: Race Off': 1, 'Farming Simulator 14': 1, 'Mcqueen Coloring pages': 1, 'Monster Truck Driver & Racing': 1, 'Strawberry Shortcake BerryRush': 3, 'DC Super Hero Girls™': 5, 'Toca Kitchen 2': 3, 'Disney Magic Kingdoms: Build Your Own Magical Park': 1, 'Toca Life: City': 1, 'Papumba Academy - Fun Learning For Kids': 3, 'Kids Balloon Pop Game Free 🎈': 1, 'Sounds for Toddlers FREE': 1, 'Elmo Calls by Sesame Street': 3, 'Sago Mini Friends': 3, 'Tee and Mo Bath Time Free': 1, 'Bita and the Animals - Pelos Ares': 1, 'TO-FU Oh!SUSHI': 1, 'DreamWorks Friends': 1, 'Avokiddo Emotions': 1, 'Nighty Night Circus': 1, 'Sago Mini Babies': 1, \"Dr. Panda & Toto's Treehouse\": 3, 'PlayKids - Educational cartoons and games for kids': 1, 'Baby Panda Care': 1, 'Monster High™': 1, 'Shopkins World!': 1, 'DisneyNOW – TV Shows & Games': 3, 'Equestria Girls': 3, 'Frozen Free Fall': 3, 'Thomas & Friends: Race On!': 1, 'Inside Out Thought Bubbles': 1, 'School of Dragons': 1, 'Peak – Brain Games & Training': 1, 'Period Tracker': 1, 'Vargo Anesthesia Mega App': 1, 'Monash Uni Low FODMAP Diet': 1, 'mySugr: the blood sugar tracker made just for you': 3, 'Human Anatomy Atlas 2018: Complete 3D Human Body': 3, 'ASCCP Mobile': 1, 'Paramedic Protocol Provider': 1, '2017 EMRA Antibiotic Guide': 1, 'Essential Anatomy 3': 1, 'EMT PASS': 1, 'Block Buddy': 1, 'EMT Review Plus': 1, 'Journal Club: Medicine': 1, 'Pedi STAT': 1, 'AnatomyMapp': 1, 'Diabetes & Diet Tracker': 1, 'A Manual of Acupuncture': 1, 'PTA Content Master': 1, 'Muscle Premium - Human Anatomy, Kinesiology, Bones': 1, 'Cardiac diagnosis (heart rate, arrhythmia)': 3, 'Medical ID - In Case of Emergency (ICE)': 1, 'IBM Micromedex Drug Info': 1, 'Advanced Comprehension Therapy': 1, 'Hospitalist Handbook': 1, 'Teladoc Member': 1, 'Ada - Your Health Guide': 1, 'Ovia Fertility Tracker & Ovulation Calculator': 1, 'Youper - AI Therapy': 3, 'MoodSpace': 1, 'Super Hearing Super Ear Amplifier': 1, 'Penn State Health OnDemand': 1, 'ScriptSave WellRx Rx Discounts': 1, 'Free Blood Pressure': 3, 'All Mental disorders': 1, 'Nurse Grid': 1, 'JH Blood Pressure Monitor': 1, 'Blood Pressure': 3, 'RT 516 VET': 1, 'Anthem Anywhere': 1, 'Sway Medical': 1, \"fred's Pharmacy\": 1, 'Breastfeeding Tracker Baby Log': 1, 'Banfield Pet Health Tracker': 1, '1800 Contacts - Lens Store': 1, 'TextNow - free text + calls': 1, 'Tumblr': 3, 'Snapchat': 5, 'Instagram': 5, 'Periscope - Live Video': 3, 'Pinterest': 3, 'MeetMe: Chat & Meet New People': 7, 'ooVoo Video Calls, Messaging & Stories': 1, 'LinkedIn': 1, 'Tango - Live Video Broadcast': 1, 'SayHi Chat, Meet New People': 3, 'Tapatalk - 100,000+ Forums': 1, 'Badoo - Free Chat & Dating App': 5, 'Nextdoor - Local neighborhood news & classifieds': 1, 'Meetup': 5, 'Text Free: WiFi Calling App': 3, 'textPlus: Free Text & Calls': 1, 'POF Free Dating App': 3, 'Tagged - Meet, Chat & Dating': 1, 'LOVOO': 1, 'SKOUT - Meet, Chat, Go Live': 1, 'Jaumo Dating, Flirt & Live Video': 1, 'Couple - Relationship App': 1, 'Wish - Shopping Made Fun': 7, 'SnipSnap Coupon App': 1, 'Extreme Coupon Finder': 3, 'Checkout 51: Grocery coupons': 3, 'The Coupons App': 5, 'RetailMeNot - Coupons, Deals & Discount Shopping': 3, 'Groupon - Shop Deals, Discounts & Coupons': 5, 'Stocard - Rewards Cards Wallet': 1, 'eBay: Buy & Sell this Summer - Discover Deals Now!': 7, 'Gyft - Mobile Gift Card Wallet': 3, 'Shopkick: Free Gift Cards, Shop Rewards & Deals': 1, 'Shopular: Coupons, Weekly Ads & Shopping Deals': 1, 'Carousell: Snap-Sell, Chat-Buy': 1, 'Walmart': 1, 'Ibotta: Cash Back Savings, Rewards & Coupons App': 1, 'AliExpress - Smarter Shopping, Better Living': 5, 'LivingSocial - Local Deals': 3, 'Amazon Shopping': 3, 'Poshmark - Buy & Sell Fashion': 1, 'Target - now with Cartwheel': 3, 'ZALORA Fashion Shopping': 1, 'Fancy': 3, \"Modcloth – Unique Indie Women's Fashion & Style\": 1, \"JackThreads: Men's Shopping\": 3, 'Zappos – Shoe shopping made simple': 1, 'Wanelo Shopping': 1, 'Etsy: Handmade & Vintage Goods': 1, 'Slickdeals: Coupons & Shopping': 3, 'ASOS': 1, 'Google Photos': 5, 'Shutterfly: Free Prints, Photo Books, Cards, Gifts': 5, 'InstaBeauty -Makeup Selfie Cam': 1, 'B612 - Beauty & Filter Camera': 3, 'BeautyPlus - Easy Photo Editor & Selfie Camera': 7, 'YouCam Perfect - Selfie Photo Editor': 3, 'Muzy - Share photos & collages': 1, 'QuickPic - Photo Gallery with Google Drive Support': 3, 'Flickr': 1, 'Open Camera': 3, 'Camera for Android': 3, 'Cymera Camera- Photo Editor, Filter,Collage,Layout': 5, 'Candy Camera - selfie, beauty camera, photo editor': 3, 'Camera360: Selfie Photo Editor with Funny Sticker': 3, 'Facetune - For Free': 3, 'Photo Editor Selfie Camera Filter & Mirror Image': 1, 'HD Camera for Android': 1, 'Photo Editor Pro': 1, 'YouCam Makeup - Magic Selfie Makeovers': 1, 'Photo Editor-': 1, 'Photo Editor': 1, 'Adobe Photoshop Express:Photo Editor Collage Maker': 1, 'InstaSize Photo Filters & Collage Editor': 1, 'CBS Sports App - Scores, News, Stats & Watch Live': 13, 'Yahoo Fantasy Sports - #1 Rated Fantasy App': 7, 'ESPN': 11, 'NFL': 3, 'Bleacher Report: sports news, scores, & highlights': 9, 'ESPN Fantasy Sports': 5, 'theScore: Live Sports Scores, News, Stats & Videos': 7, 'MLB At Bat': 7, 'WatchESPN': 5, 'Hole19: Golf GPS App, Rangefinder & Scorecard': 1, 'CBS Sports Fantasy': 1, 'Yahoo Sports - scores, stats, news, & highlights': 3, 'FotMob - Live Soccer Scores': 1, 'US Open Tennis Championships 2018': 1, 'FIFA - Tournaments, Soccer News & Live Scores': 1, 'Golfshot: Golf GPS + Tee Times': 1, 'BBC Sport': 1, 'MLB Ballpark': 1, 'FOX Sports: Live Streaming, Scores & News': 1, 'Fantasy Football': 1, 'PGA TOUR': 1, 'UFC': 1, 'trivago: Hotels & Travel': 3, 'Expedia Hotels, Flights & Car Rental Travel Deals': 5, 'TripAdvisor Hotels Flights Restaurants Attractions': 7, 'Skyscanner': 7, 'Booking.com Travel Deals': 3, 'Priceline Hotel Deals, Rental Cars & Flights': 3, 'United Airlines': 1, 'Southwest Airlines': 1, 'Hopper - Watch & Book Flights': 1, 'Fly Delta': 1, 'KAYAK Flights, Hotels & Cars': 3, 'American Airlines': 3, 'Orbitz - Hotels, Flights & Package Deals': 1, 'Hotels.com: Book Hotel Rooms & Find Vacation Deals': 1, 'Hostelworld: Hostels & Cheap Hotels Travel App': 1, 'Airbnb': 1, 'HotelTonight: Book amazing deals at great hotels': 3, 'Maps - Navigate & Explore': 3, 'Google Street View': 1, 'Calculator': 1, 'Gboard - the Google Keyboard': 3, 'ZEDGE™ Ringtones & Wallpapers': 5, 'Nova Launcher': 1, 'Apex Launcher': 3, 'Smart Launcher 5': 1, 'Google Keep': 5, 'Evernote – Organizer, Planner for Notes & Memos': 5, 'ES File Explorer File Manager': 3, 'Microsoft Word': 3, 'Google Drive': 5, 'Adobe Acrobat Reader': 3, 'Google PDF Viewer': 3, 'Microsoft Excel': 1, 'Google Docs': 3, 'Microsoft PowerPoint': 1, 'Microsoft OneNote': 3, 'Google Calendar': 3, 'Wunderlist: To-Do List & Tasks': 3, 'Any.do: To-do list, Calendar, Reminders & Planner': 3, 'Todoist: To-do lists for task management & errands': 3, 'Planner Pro-Personal Organizer': 1, 'Microsoft OneDrive': 1, 'Dropbox': 3, 'MX Player': 3, 'Video Editor': 3, 'Google News': 5, 'Flipboard: News For Our Time': 3, 'BBC News': 3, 'Fox News – Breaking News, Live Video & News Alerts': 3, 'USA TODAY': 3, 'CNN Breaking US & World News': 3, 'Twitter': 3, 'NPR News': 1, 'Haystack TV: Local & World News - Free': 1, 'ABC News - US & World News': 1, 'NBC News': 1, 'The Wall Street Journal: Business & Market News': 1, 'NYTimes - Latest News': 3, 'Newsroom: News Worth Sharing': 1, 'BuzzFeed: News, Tasty, Quizzes': 1, 'Flashlight': 1, 'Agar.io': 1, 'LEGO® Juniors Create & Cruise': 1, 'Google Translate': 1, 'Pokémon GO': 1, 'PAC-MAN': 1, 'Colorfy: Coloring Book for Adults - Free': 1, 'YouTube': 1, \"Alto's Adventure\": 1, 'Facebook': 1, 'VPN Free - Betternet Hotspot VPN & Private Browser': 1, 'EMT Tutor NREMT-B Study Guide': 1, 'EMT-B Pocket Prep': 1, 'Diary with lock': 1, 'C Programming': 1, 'CppDroid - C/C++ IDE': 1, 'Learn C++': 1, 'Google Duo - High Quality Video Calls': 1, 'Crossy Road': 1, 'E*TRADE Mobile': 1, 'WWE': 1, 'Amazon Kindle': 1, 'Microsoft Edge': 1, 'Microsoft Outlook': 1, 'Ebook Reader': 1, 'Flipkart Online Shopping App': 1, 'Facebook Lite': 1, 'Messenger Lite: Free Calls & Messages': 1, 'imo beta free calls and text': 1, 'Geometry Dash World': 1, 'Google+': 1, 'Google': 1, 'G Cloud Backup': 1, 'H&M': 1, 'H TV': 1, 'Talking Ben the Dog': 1, 'Sonic Dash': 1, 'Talkatone: Free Texts, Calls & Phone Number': 1, 'Textgram - write on photos': 1, 'Jetpack Joyride': 1, 'Anger of stick 5 : zombie': 1, 'Turbo FAST': 1, 'K PLUS': 1, 'PowerDirector Video Editor App: 4K, Slow Mo & More': 1, 'Fuzzy Numbers: Pre-K Number Foundation': 1, 'LiveMe - Video chat, new friends, and make money': 1, 'letgo: Buy & Sell Used Stuff, Cars & Real Estate': 1, 'Love Balls': 1, 'Last Day on Earth: Survival': 1, 'Minecraft': 1, 'MEGA': 1, 'I’m Expecting - Pregnancy App': 1, 'Diabetes:M': 1, 'PicsArt Photo Studio: Collage Maker & Pic Editor': 1, 'Quora': 1, 'SHAREit - Transfer & Share': 1, 'Topbuzz: Breaking News, Videos & Funny GIFs': 1, 'Twitch: Livestream Multiplayer Games & Esports': 1, 'myAT&T': 1, 'Truecaller: Caller ID, SMS spam blocking & Dialer': 1, 'Showtime Anytime': 1, 'Uber': 1, 'VLC for Android': 1, 'Vigo Video': 1, 'Wattpad 📖 Free Books': 1, 'Waze - GPS, Maps, Traffic Alerts & Live Navigation': 1, 'Dating App, Flirt & Chat : W-Match': 1, 'WPS Office - Word, Docs, PDF, Note, Slide & Sheet': 1, 'LINE WEBTOON - Free Comics': 1, 'WhatsApp Business': 1, 'We Heart It': 1, 'Telegram X': 1, 'Share Music & Transfer Files - Xender': 1, 'Yandex Browser with Protect': 1, 'YouTube Studio': 1, 'PBS KIDS Video': 1, 'YouTube Gaming': 1, 'GO Keyboard - Emoticon keyboard, Free Theme, GIF': 1, 'Zello PTT Walkie Talkie': 1, 'Z Camera - Photo Editor, Beauty Selfie, Collage': 1, 'Six Pack in 30 Days - Abs Workout': 1, 'Angry Birds 2': 1, 'AC - Tips & News for Android™': 1, 'CM Browser - Ad Blocker , Fast Download , Privacy': 1, 'Mobi Calculator free & AD free!': 1, 'Flipp - Weekly Shopping': 1, 'Camera FV-5 Lite': 1, 'All Football - Latest News & Videos': 1, 'Maricopa AH': 1, 'Animal Jam - Play Wild!': 1, 'RULES OF SURVIVAL': 1, 'Amazon for Tablets': 1, 'Final Fantasy XV: A New Empire': 1, 'The Sims™ FreePlay': 1, 'Text free - Free Text + Call': 1, '365Scores - Live Scores': 1, 'DINO HUNTER: DEADLY SHORES': 1, 'AP Mobile - Breaking News': 1, 'Reuters News': 1, 'AccuWeather: Daily Forecast & Live Weather Reports': 1, 'Moovit: Bus Time & Train Time Live Info': 1, 'Jurassic World™ Alive': 1, 'Overstock – Home Decor, Furniture Shopping': 1, 'Choices: Stories You Play': 1, 'Runtastic Sleep Better: Sleep Cycle & Smart Alarm': 1, 'Ringtone Maker': 1, 'Plants vs. Zombies™ Heroes': 1, 'CM FILE MANAGER HD': 1, 'realestate.com.au - Buy, Rent & Sell Property': 1, 'Video Player All Format': 1, 'DEER HUNTER 2018': 1, 'Google Play Games': 1, 'ai.type Free Emoji Keyboard': 1, 'Manga AZ - Manga Comic Reader': 1, 'British Airways': 1, 'Anthem BC Anywhere': 1, 'Transit: Real-Time Transit App': 1, 'PMHNP-BC Pocket Prep': 1, 'Backgrounds HD (Wallpapers)': 1, 'Blur Image Background': 1, 'Newegg Mobile': 1, 'English Dictionary - Offline': 1, 'English Grammar Test': 1, 'Daily Manga - Comic & Webtoon': 1, 'BBM - Free Calls & Messages': 1, 'BeyondMenu Food Delivery': 1, 'NOOK: Read eBooks & Magazines': 1, 'NOOK App for NOOK Devices': 1, 'HBO GO: Stream with TV Package': 1, 'No Crop & Square for Instagram': 1, 'Hungry Shark World': 1, 'iBP Blood Pressure': 1, 'Blood Pressure Log - MyDiary': 1, 'Blood Pressure(BP) Diary': 1, 'BP Journal - Blood Pressure Diary': 1, 'Blood Pressure Monitor': 1, 'Blood Pressure Companion': 1, 'High Blood Pressure Symptoms': 1, 'QR Scanner & Barcode Scanner 2018': 1, 'Camera FV-5': 1, 'Camera MX - Free Photo & Video Camera': 1, 'Cardboard': 1, 'Maps & GPS Navigation — OsmAnd': 1, 'Beautiful Widgets Pro': 1, 'Beautiful Widgets Free': 1, 'HD Widgets': 1, 'Color by Number – New Coloring Book': 1, 'Photo Editor by Aviary': 1, 'UNICORN - Color By Number & Pixel Art Coloring': 1, '420 BZ Budeze Delivery': 1, 'BZWBK24 mobile': 1, 'Zoosk Dating App: Meet Singles': 1, 'Cricbuzz - Live Cricket Scores & News': 1, 'Cheapflights – Flight Search': 1, 'Chrome Beta': 1, 'Chrome Dev': 1, 'CJmall': 1, 'Castle Clash: Heroes of the Empire US': 1, 'CM Launcher 3D - Theme, Wallpapers, Efficient': 1, 'CM Locker - Security Lockscreen': 1, 'CM Flashlight (Compass, SOS)': 1, 'Ruler': 1, 'Cartoon Network App': 1, 'LEGO® TV': 1, 'Brit + Co': 1, 'CT Scan Cross Sectional Anatomy': 1, 'Shadow Fight 2': 1, 'Curriculum vitae App CV Builder Free Resume Maker': 1, 'CW Seed': 1, 'Camera360 Lite - Selfie Camera': 1, 'Mapy.cz - Cycling & Hiking offline maps': 1, 'Face Filter, Selfie Editor - Sweet Camera': 1, 'Metal Soldiers 2': 1, \"COOKING MAMA Let's Cook!\": 1, 'Run Sausage Run!': 1, 'Knife Hit': 1, 'DC Comics': 1, 'MARVEL Contest of Champions': 1, 'wetter.com - Weather and Radar': 1, 'CallApp: Caller ID, Blocker & Phone Call Recorder': 1, 'LINE Camera - Photo editor': 1, 'Racing in Car 2': 1, 'Dungeon Hunter Champions: Epic Online Action RPG': 1, 'Red Bull TV: Live Sports, Music & Entertainment': 1, 'Idle Heroes': 1, 'Free phone calls, free texting SMS on free number': 1, 'Phone Tracker : Family Locator': 1, 'My Photo Keyboard': 1, 'Whoscall - Caller ID & Block': 1, 'Google Sheets': 1, 'Video Downloader': 1, 'Notepad & To do list': 1, 'Polaris Office - Word, Docs, Sheets, Slide, PDF': 1, 'Do It Later: Tasks & To-Dos': 1, 'To-Do Calendar Planner': 1, 'TickTick: To Do List with Reminder, Day Planner': 1, 'ColorNote Notepad Notes': 1, 'Dude Perfect 2': 1, 'Dairy Queen': 1, 'SONIC Drive-In': 1, \"McDonald's\": 1, 'Wendy’s – Food and Offers': 1, \"Dunkin' Donuts\": 1, 'SUBWAY®': 1, 'Panera Bread': 1, 'Starbucks': 1, 'Cache Cleaner-DU Speed Booster (booster & cleaner)': 1, 'DU Browser—Browse fast & fun': 1, 'Real Racing 3': 1, 'My Little Pony Celebration': 1, 'My Little Pony: Harmony Quest': 1, 'The Emirates App': 1, 'Phogy, 3D Camera': 1, 'Weather by eltiempo.es': 1, 'The Game of Life': 1, 'Spanish English Translator': 1, \"Game for KIDS: KIDS match'em\": 1, 'Dictionary - Merriam-Webster': 1, 'Edmodo': 1, 'Chess Free': 1, 'Oxford Dictionary of English : Free': 1, 'Masha and the Bear Child Games': 1, 'Episode - Choose Your Story': 1, 'The NBC App - Watch Live TV and Full Episodes': 1, 'Moto File Manager': 1, 'Moneycontrol – Stocks, Sensex, Mutual Funds, IPO': 1, 'CNBC: Breaking Business News & Live Market Data': 1, 'Google Earth': 1, 'Amino: Communities and Chats': 1, 'Hangouts Dialer - Call Phones': 1, 'Offline Maps & Navigation': 1, 'Strawberry Shortcake Ice Cream Island': 1, 'Home Workout - No Equipment': 1, 'Home Security Camera WardenCam - reuse old phones': 1, 'Web Browser for Android': 1, 'Airway Ex - Intubate. Anesthetize. Train.': 1, 'FilterGrid - Cam&Photo Editor': 1, 'Messages, Text and Video Chat for Messenger': 1, 'All Social Networks': 1, 'Premier League - Official App': 1, 'Fallout Shelter': 1, 'Facebook Pages Manager': 1, 'Facebook Ads Manager': 1, 'Who Viewed My Facebook Profile - Stalkers Visitors': 1, 'The 5th Stand': 1, 'osmino Wi-Fi: free WiFi': 1, 'Fun Kid Racing - Motocross': 1, 'Podcast App: Free & Offline Podcasts by Player FM': 1, 'Motorola FM Radio': 1, 'FarmersOnly Dating': 1, 'FP Notebook': 1, 'AAFP': 1}\n"
     ]
    }
   ],
   "source": [
    "def duplicate_verification(duplicate_apps, unique_apps):\n",
    "    verified_apps = {}\n",
    "    for app in duplicate_apps:\n",
    "        if app in verified_apps:\n",
    "            verified_apps[app] += 1\n",
    "            for row in unique_apps:\n",
    "                if row == app:\n",
    "                    verified_apps[app] += 1\n",
    "        else:\n",
    "            verified_apps[app] = 1\n",
    "    return (verified_apps)\n",
    "\n",
    "android_duplicate_hash = duplicate_verification(duplicate_apps, unique_apps)\n",
    "print(android_duplicate_hash)"
   ]
  },
  {
   "cell_type": "markdown",
   "metadata": {},
   "source": [
    "For example, the following shows that 'Roblox' was the most duplicated app, with 15 repeated entries, whereas 'Duolingo' was the second most duplicated app, with 11 duplicated entries':"
   ]
  },
  {
   "cell_type": "code",
   "execution_count": 9,
   "metadata": {},
   "outputs": [
    {
     "name": "stdout",
     "output_type": "stream",
     "text": [
      "['ROBLOX', 15]\n",
      "['Duolingo: Learn Languages Free', 11]\n"
     ]
    }
   ],
   "source": [
    "def most_duplicated_apps(duplicate_hash):\n",
    "    most_duplicated = [False, 0]\n",
    "    second_most_duplicated = []\n",
    "    for app in duplicate_hash:\n",
    "        if duplicate_hash[app] > most_duplicated[1]:\n",
    "            second_most_duplicated = [most_duplicated[0], most_duplicated[1]]\n",
    "            most_duplicated = [app, duplicate_hash[app]]        \n",
    "        elif duplicate_hash[app] == most_duplicated[1]:\n",
    "            second_most_duplicated = [app, duplicate_hash[app]]\n",
    "    return(most_duplicated, second_most_duplicated)\n",
    "\n",
    "android_most_duplicated = most_duplicated_apps(android_duplicate_hash)\n",
    "\n",
    "most_duplicated = android_most_duplicated[0]\n",
    "second_most_duplicated = android_most_duplicated[1]\n",
    "\n",
    "print(most_duplicated)\n",
    "print(second_most_duplicated)"
   ]
  },
  {
   "cell_type": "markdown",
   "metadata": {},
   "source": [
    "The full data sets for for those apps are extracted as follows:"
   ]
  },
  {
   "cell_type": "code",
   "execution_count": 10,
   "metadata": {},
   "outputs": [
    {
     "name": "stdout",
     "output_type": "stream",
     "text": [
      "['App', 'Category', 'Rating', 'Reviews', 'Size', 'Installs', 'Type', 'Price', 'Content Rating', 'Genres', 'Last Updated', 'Current Ver', 'Android Ver']\n",
      "['ROBLOX', 'GAME', '4.5', '4447388', '67M', '100,000,000+', 'Free', '0', 'Everyone 10+', 'Adventure;Action & Adventure', 'July 31, 2018', '2.347.225742', '4.1 and up']\n",
      "['ROBLOX', 'GAME', '4.5', '4447346', '67M', '100,000,000+', 'Free', '0', 'Everyone 10+', 'Adventure;Action & Adventure', 'July 31, 2018', '2.347.225742', '4.1 and up']\n",
      "['ROBLOX', 'GAME', '4.5', '4448791', '67M', '100,000,000+', 'Free', '0', 'Everyone 10+', 'Adventure;Action & Adventure', 'July 31, 2018', '2.347.225742', '4.1 and up']\n",
      "['ROBLOX', 'GAME', '4.5', '4449882', '67M', '100,000,000+', 'Free', '0', 'Everyone 10+', 'Adventure;Action & Adventure', 'July 31, 2018', '2.347.225742', '4.1 and up']\n",
      "['ROBLOX', 'GAME', '4.5', '4449910', '67M', '100,000,000+', 'Free', '0', 'Everyone 10+', 'Adventure;Action & Adventure', 'July 31, 2018', '2.347.225742', '4.1 and up']\n",
      "['ROBLOX', 'FAMILY', '4.5', '4449910', '67M', '100,000,000+', 'Free', '0', 'Everyone 10+', 'Adventure;Action & Adventure', 'July 31, 2018', '2.347.225742', '4.1 and up']\n",
      "['ROBLOX', 'FAMILY', '4.5', '4450855', '67M', '100,000,000+', 'Free', '0', 'Everyone 10+', 'Adventure;Action & Adventure', 'July 31, 2018', '2.347.225742', '4.1 and up']\n",
      "['ROBLOX', 'FAMILY', '4.5', '4450890', '67M', '100,000,000+', 'Free', '0', 'Everyone 10+', 'Adventure;Action & Adventure', 'July 31, 2018', '2.347.225742', '4.1 and up']\n",
      "['ROBLOX', 'FAMILY', '4.5', '4443407', '67M', '100,000,000+', 'Free', '0', 'Everyone 10+', 'Adventure;Action & Adventure', 'July 31, 2018', '2.347.225742', '4.1 and up']\n",
      "['Duolingo: Learn Languages Free', 'EDUCATION', '4.7', '6289924', 'Varies with device', '100,000,000+', 'Free', '0', 'Everyone', 'Education;Education', 'August 1, 2018', 'Varies with device', 'Varies with device']\n",
      "['Duolingo: Learn Languages Free', 'EDUCATION', '4.7', '6290507', 'Varies with device', '100,000,000+', 'Free', '0', 'Everyone', 'Education;Education', 'August 1, 2018', 'Varies with device', 'Varies with device']\n",
      "['Duolingo: Learn Languages Free', 'EDUCATION', '4.7', '6290507', 'Varies with device', '100,000,000+', 'Free', '0', 'Everyone', 'Education;Education', 'August 1, 2018', 'Varies with device', 'Varies with device']\n",
      "['Duolingo: Learn Languages Free', 'EDUCATION', '4.7', '6290507', 'Varies with device', '100,000,000+', 'Free', '0', 'Everyone', 'Education;Education', 'August 1, 2018', 'Varies with device', 'Varies with device']\n",
      "['Duolingo: Learn Languages Free', 'FAMILY', '4.7', '6294400', 'Varies with device', '100,000,000+', 'Free', '0', 'Everyone', 'Education;Education', 'August 1, 2018', 'Varies with device', 'Varies with device']\n",
      "['Duolingo: Learn Languages Free', 'FAMILY', '4.7', '6294397', 'Varies with device', '100,000,000+', 'Free', '0', 'Everyone', 'Education;Education', 'August 1, 2018', 'Varies with device', 'Varies with device']\n",
      "['Duolingo: Learn Languages Free', 'FAMILY', '4.7', '6297590', 'Varies with device', '100,000,000+', 'Free', '0', 'Everyone', 'Education;Education', 'August 6, 2018', 'Varies with device', 'Varies with device']\n"
     ]
    }
   ],
   "source": [
    "most_dup_full_set = []\n",
    "sec_most_dup_full_set = []\n",
    "\n",
    "for app in android:\n",
    "    if app[0] == most_duplicated[0]:\n",
    "        most_dup_full_set.append(app)\n",
    "    elif app[0] == second_most_duplicated[0]:\n",
    "        sec_most_dup_full_set.append(app)\n",
    "\n",
    "print(android_header)\n",
    "\n",
    "for line in most_dup_full_set:\n",
    "    print(line)\n",
    "    \n",
    "for line in sec_most_dup_full_set:\n",
    "    print(line)"
   ]
  },
  {
   "cell_type": "markdown",
   "metadata": {},
   "source": [
    "The above shows that the number of reviews (item 4) is the data point with the most relevant variance between each rows. Therefore, it will be used as the criterion for differentiating between each duplicate to the effect that only the entry with the most reviews will be ket in the dataset, whereas all others will be deleted as follows:"
   ]
  },
  {
   "cell_type": "code",
   "execution_count": null,
   "metadata": {},
   "outputs": [],
   "source": [
    "def sorting_unsorted_duplicates_array(duplicates_unsorted):\n",
    "    dups_sorted = []\n",
    "    for dup in duplicates_unsorted:\n",
    "        if not dups_sorted:\n",
    "            array = []\n",
    "            array.append(dup)\n",
    "            dups_sorted.append(array)\n",
    "        else:\n",
    "            dups_sorted_count = len(dups_sorted)\n",
    "            sorted_dups_counter = 0\n",
    "            for sorted_dups1 in dups_sorted:\n",
    "                sorted_dups_counter += 1\n",
    "                already_sorted = False\n",
    "                for dup1 in sorted_dups1:\n",
    "                    if dup1[0] == dup[0]:\n",
    "                        sorted_dups1.append(dup)\n",
    "                        already_sorted = True                 \n",
    "                if  dups_sorted_count == sorted_dups_counter and already_sorted == False:\n",
    "                    array2 = []\n",
    "                    array2.append(dup)\n",
    "                    dups_sorted.append(array2)\n",
    "    return dups_sorted\n",
    "\n",
    "def sorted_duplicates(verified_apps_hash, data_set):\n",
    "    duplicates_unsorted = []\n",
    "    for row in data_set:\n",
    "        if row[0] in verified_apps_hash:\n",
    "            duplicates_unsorted.append(row)\n",
    "    dups_sorted = sorting_unsorted_duplicates_array(duplicates_unsorted)\n",
    "    return dups_unsorted\n",
    "\n",
    "\n",
    "sorted_android_duplicates = sorted_duplicates(android_duplicate_hash, android)\n",
    "\n",
    "\n",
    "print(unsorted_android_duplicates)\n"
   ]
  },
  {
   "cell_type": "code",
   "execution_count": null,
   "metadata": {},
   "outputs": [],
   "source": [
    "# def remove_highest_rating(all_duplicates_sorted):\n",
    "#     for dups in all_duplicates_sorted:\n",
    "#         highest_rating: []\n",
    "#         for app in dups:\n",
    "#             if not highest_rating:\n",
    "#                 highest_rating = app\n",
    "#             if app[3] > highest_rating[3]:\n",
    "#                 highest_rating = app\n",
    "#         for app in dups:\n",
    "#             if app == highest_rating:\n",
    "#                 del app\n",
    "#     return all_duplicates_sorted\n",
    "\n",
    "# sorted_and_dups_wo_highest_rating = remove_highest_rating(sorted_android_duplicates)\n",
    "# print(sorted_and_dups_wo_highest_rating)"
   ]
  },
  {
   "cell_type": "code",
   "execution_count": null,
   "metadata": {},
   "outputs": [],
   "source": []
  }
 ],
 "metadata": {
  "kernelspec": {
   "display_name": "Python 3",
   "language": "python",
   "name": "python3"
  },
  "language_info": {
   "codemirror_mode": {
    "name": "ipython",
    "version": 3
   },
   "file_extension": ".py",
   "mimetype": "text/x-python",
   "name": "python",
   "nbconvert_exporter": "python",
   "pygments_lexer": "ipython3",
   "version": "3.8.5"
  }
 },
 "nbformat": 4,
 "nbformat_minor": 4
}
